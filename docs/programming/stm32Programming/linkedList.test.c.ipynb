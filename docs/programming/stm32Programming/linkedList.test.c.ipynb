{
 "cells": [
  {
   "cell_type": "code",
   "execution_count": 13,
   "metadata": {},
   "outputs": [
    {
     "name": "stdout",
     "output_type": "stream",
     "text": [
      "Enter an integer\n"
     ]
    }
   ],
   "source": [
    "#include <stdio.h>\n",
    "#include <stdlib.h>\n",
    "#include <string.h>\n",
    "\n",
    "typedef struct node {\n",
    "    int val;\n",
    "    struct node * next;\n",
    "} node_t;\n",
    "\n",
    "int main() {\n",
    "    node_t * head = NULL;\n",
    "    head = malloc(sizeof(node_t));\n",
    "    printf(\"Enter an integer\\n\");\n",
    "\n",
    "    \n",
    "    return 0;\n",
    "}"
   ]
  }
 ],
 "metadata": {
  "kernelspec": {
   "display_name": "C",
   "language": "c",
   "name": "c"
  },
  "language_info": {
   "file_extension": ".c",
   "mimetype": "text/plain",
   "name": "c"
  }
 },
 "nbformat": 4,
 "nbformat_minor": 2
}
