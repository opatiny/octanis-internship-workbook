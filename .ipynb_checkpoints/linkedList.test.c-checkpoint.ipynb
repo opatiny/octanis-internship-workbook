{
 "cells": [
  {
   "cell_type": "code",
   "execution_count": 42,
   "metadata": {},
   "outputs": [
    {
     "name": "stdout",
     "output_type": "stream",
     "text": [
      "Length of node_t type: 16\n",
      "10\n"
     ]
    }
   ],
   "source": [
    "// https://www.learn-c.org/en/Linked_lists\n",
    "\n",
    "#include <stdio.h>\n",
    "#include <stdlib.h>\n",
    "#include <string.h>\n",
    "\n",
    "typedef struct node {\n",
    "    int val;\n",
    "    struct node * next;\n",
    "} node_t;\n",
    "\n",
    "void printList(node_t * head);\n",
    "void push(node_t * head, int val);\n",
    "\n",
    "int main() {\n",
    "    node_t * head = NULL;\n",
    "    head = malloc(sizeof(node_t));\n",
    "    \n",
    "    // test if the pointer remained null -> when does this happen?\n",
    "    if (head == NULL) {\n",
    "        return 1;\n",
    "    }\n",
    "    \n",
    "    head->val = 10;\n",
    "    head->next = NULL;\n",
    "    \n",
    "    int length = sizeof(node_t);\n",
    "    \n",
    "    printf(\"Length of node_t type: \");\n",
    "    printf(\"%d\\n\", length);\n",
    "    \n",
    "    printList(head);\n",
    "    \n",
    "    return 0;\n",
    "}\n",
    "\n",
    "// print value of all nodes\n",
    "void printList(node_t * head) {\n",
    "    node_t * current = head;\n",
    "\n",
    "    while (current != NULL) {\n",
    "        printf(\"%d\\n\", current->val);\n",
    "        current = current->next;\n",
    "    }\n",
    "}\n",
    "\n",
    "// add new node at the end of the list\n",
    "void push(node_t * head, int val) {\n",
    "    node_t * current = head;\n",
    "    while (current->next != NULL) {\n",
    "        current = current->next;\n",
    "    }\n",
    "\n",
    "    /* now we can add a new variable */\n",
    "    current->next = malloc(sizeof(node_t));\n",
    "    current->next->val = val;\n",
    "    current->next->next = NULL;\n",
    "}"
   ]
  },
  {
   "cell_type": "code",
   "execution_count": null,
   "metadata": {},
   "outputs": [],
   "source": []
  }
 ],
 "metadata": {
  "kernelspec": {
   "display_name": "C",
   "language": "c",
   "name": "c"
  },
  "language_info": {
   "file_extension": ".c",
   "mimetype": "text/plain",
   "name": "c"
  }
 },
 "nbformat": 4,
 "nbformat_minor": 2
}
